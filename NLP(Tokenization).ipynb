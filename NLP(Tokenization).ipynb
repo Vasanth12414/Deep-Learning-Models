{
  "nbformat": 4,
  "nbformat_minor": 0,
  "metadata": {
    "colab": {
      "provenance": [],
      "authorship_tag": "ABX9TyMXYjRBQ/E0ZzimcXUv9Omr",
      "include_colab_link": true
    },
    "kernelspec": {
      "name": "python3",
      "display_name": "Python 3"
    },
    "language_info": {
      "name": "python"
    }
  },
  "cells": [
    {
      "cell_type": "markdown",
      "metadata": {
        "id": "view-in-github",
        "colab_type": "text"
      },
      "source": [
        "<a href=\"https://colab.research.google.com/github/Vasanth12414/Deep-Learning-Models/blob/main/NLP(Tokenization).ipynb\" target=\"_parent\"><img src=\"https://colab.research.google.com/assets/colab-badge.svg\" alt=\"Open In Colab\"/></a>"
      ]
    },
    {
      "cell_type": "code",
      "source": [
        "import nltk\n",
        "nltk.download('punkt')\n",
        "nltk.download('punkt_tab')\n",
        "\n",
        "string = 'Twinkle twinkle little start . How I wonder what you are. Up above the world so high. like a dimond in the sky'\n",
        "tokens = nltk.word_tokenize(string)\n",
        "tokens"
      ],
      "metadata": {
        "colab": {
          "base_uri": "https://localhost:8080/"
        },
        "id": "HpKageD9UB_t",
        "outputId": "6986549e-bfa8-4c7e-c807-78aa3e30e107"
      },
      "execution_count": 5,
      "outputs": [
        {
          "output_type": "stream",
          "name": "stderr",
          "text": [
            "[nltk_data] Downloading package punkt to /root/nltk_data...\n",
            "[nltk_data]   Package punkt is already up-to-date!\n",
            "[nltk_data] Downloading package punkt_tab to /root/nltk_data...\n",
            "[nltk_data]   Package punkt_tab is already up-to-date!\n"
          ]
        },
        {
          "output_type": "execute_result",
          "data": {
            "text/plain": [
              "['Twinkle',\n",
              " 'twinkle',\n",
              " 'little',\n",
              " 'start',\n",
              " '.',\n",
              " 'How',\n",
              " 'I',\n",
              " 'wonder',\n",
              " 'what',\n",
              " 'you',\n",
              " 'are',\n",
              " '.',\n",
              " 'Up',\n",
              " 'above',\n",
              " 'the',\n",
              " 'world',\n",
              " 'so',\n",
              " 'high',\n",
              " '.',\n",
              " 'like',\n",
              " 'a',\n",
              " 'dimond',\n",
              " 'in',\n",
              " 'the',\n",
              " 'sky']"
            ]
          },
          "metadata": {},
          "execution_count": 5
        }
      ]
    },
    {
      "cell_type": "code",
      "source": [
        "obj = nltk.bigrams(tokens)\n",
        "str_bigrams = list(obj)\n",
        "str_bigrams"
      ],
      "metadata": {
        "colab": {
          "base_uri": "https://localhost:8080/"
        },
        "id": "OJQcsS_UUQ0c",
        "outputId": "dc5b57ac-b07d-4713-fb3c-23fe2d7dd37e"
      },
      "execution_count": 6,
      "outputs": [
        {
          "output_type": "execute_result",
          "data": {
            "text/plain": [
              "[('Twinkle', 'twinkle'),\n",
              " ('twinkle', 'little'),\n",
              " ('little', 'start'),\n",
              " ('start', '.'),\n",
              " ('.', 'How'),\n",
              " ('How', 'I'),\n",
              " ('I', 'wonder'),\n",
              " ('wonder', 'what'),\n",
              " ('what', 'you'),\n",
              " ('you', 'are'),\n",
              " ('are', '.'),\n",
              " ('.', 'Up'),\n",
              " ('Up', 'above'),\n",
              " ('above', 'the'),\n",
              " ('the', 'world'),\n",
              " ('world', 'so'),\n",
              " ('so', 'high'),\n",
              " ('high', '.'),\n",
              " ('.', 'like'),\n",
              " ('like', 'a'),\n",
              " ('a', 'dimond'),\n",
              " ('dimond', 'in'),\n",
              " ('in', 'the'),\n",
              " ('the', 'sky')]"
            ]
          },
          "metadata": {},
          "execution_count": 6
        }
      ]
    },
    {
      "cell_type": "code",
      "source": [
        "obj = nltk.trigrams(tokens)\n",
        "str_trigrams = list(obj)\n",
        "str_trigrams"
      ],
      "metadata": {
        "colab": {
          "base_uri": "https://localhost:8080/"
        },
        "id": "TO2LM_o2Um_P",
        "outputId": "2173f4f3-5289-4c98-cae6-71f92bcee838"
      },
      "execution_count": 7,
      "outputs": [
        {
          "output_type": "execute_result",
          "data": {
            "text/plain": [
              "[('Twinkle', 'twinkle', 'little'),\n",
              " ('twinkle', 'little', 'start'),\n",
              " ('little', 'start', '.'),\n",
              " ('start', '.', 'How'),\n",
              " ('.', 'How', 'I'),\n",
              " ('How', 'I', 'wonder'),\n",
              " ('I', 'wonder', 'what'),\n",
              " ('wonder', 'what', 'you'),\n",
              " ('what', 'you', 'are'),\n",
              " ('you', 'are', '.'),\n",
              " ('are', '.', 'Up'),\n",
              " ('.', 'Up', 'above'),\n",
              " ('Up', 'above', 'the'),\n",
              " ('above', 'the', 'world'),\n",
              " ('the', 'world', 'so'),\n",
              " ('world', 'so', 'high'),\n",
              " ('so', 'high', '.'),\n",
              " ('high', '.', 'like'),\n",
              " ('.', 'like', 'a'),\n",
              " ('like', 'a', 'dimond'),\n",
              " ('a', 'dimond', 'in'),\n",
              " ('dimond', 'in', 'the'),\n",
              " ('in', 'the', 'sky')]"
            ]
          },
          "metadata": {},
          "execution_count": 7
        }
      ]
    },
    {
      "cell_type": "code",
      "source": [
        "obj = nltk.ngrams(tokens ,4)\n",
        "str_ngrams = list(obj)\n",
        "str_ngrams"
      ],
      "metadata": {
        "colab": {
          "base_uri": "https://localhost:8080/"
        },
        "id": "iZCrKMEVU1Ts",
        "outputId": "ad7da242-4592-41dc-fe38-85aa9eb24ab3"
      },
      "execution_count": 8,
      "outputs": [
        {
          "output_type": "execute_result",
          "data": {
            "text/plain": [
              "[('Twinkle', 'twinkle', 'little', 'start'),\n",
              " ('twinkle', 'little', 'start', '.'),\n",
              " ('little', 'start', '.', 'How'),\n",
              " ('start', '.', 'How', 'I'),\n",
              " ('.', 'How', 'I', 'wonder'),\n",
              " ('How', 'I', 'wonder', 'what'),\n",
              " ('I', 'wonder', 'what', 'you'),\n",
              " ('wonder', 'what', 'you', 'are'),\n",
              " ('what', 'you', 'are', '.'),\n",
              " ('you', 'are', '.', 'Up'),\n",
              " ('are', '.', 'Up', 'above'),\n",
              " ('.', 'Up', 'above', 'the'),\n",
              " ('Up', 'above', 'the', 'world'),\n",
              " ('above', 'the', 'world', 'so'),\n",
              " ('the', 'world', 'so', 'high'),\n",
              " ('world', 'so', 'high', '.'),\n",
              " ('so', 'high', '.', 'like'),\n",
              " ('high', '.', 'like', 'a'),\n",
              " ('.', 'like', 'a', 'dimond'),\n",
              " ('like', 'a', 'dimond', 'in'),\n",
              " ('a', 'dimond', 'in', 'the'),\n",
              " ('dimond', 'in', 'the', 'sky')]"
            ]
          },
          "metadata": {},
          "execution_count": 8
        }
      ]
    },
    {
      "cell_type": "code",
      "source": [],
      "metadata": {
        "id": "LpKYjk-5VEmE"
      },
      "execution_count": null,
      "outputs": []
    }
  ]
}